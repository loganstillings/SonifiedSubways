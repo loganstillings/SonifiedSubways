{
 "cells": [
  {
   "cell_type": "markdown",
   "metadata": {},
   "source": [
    "# Sonified Subways"
   ]
  },
  {
   "cell_type": "code",
   "execution_count": 2,
   "metadata": {},
   "outputs": [],
   "source": [
    "import requests\n",
    "\n",
    "TRANSITLAND_API_ROOT = \"https://transit.land/api/v2/rest/\"\n",
    "API_KEY = \"\" # Add API key here\n",
    "headers = {'apikey': API_KEY}"
   ]
  },
  {
   "cell_type": "markdown",
   "metadata": {},
   "source": [
    "### Barcelona"
   ]
  },
  {
   "cell_type": "code",
   "execution_count": 4,
   "metadata": {},
   "outputs": [
    {
     "name": "stdout",
     "output_type": "stream",
     "text": [
      "{'message': 'No API key found in request'}\n"
     ]
    }
   ],
   "source": [
    "# get the transitland feed for BCN Transports Metropolitans de Barcelona (TMB)\n",
    "\n",
    "bcn_feed_key = \"o-sp3e-tmb\" # https://www.transit.land/operators/o-sp3e-tmb\n",
    "bcn_feed_url = \"{0}/feeds/{1}\".format(TRANSITLAND_API_ROOT, bcn_feed_key)\n",
    "\n",
    "response = requests.get(bcn_feed_url, headers)\n",
    "bsn_feed = response.json()\n",
    "print(bsn_feed)"
   ]
  }
 ],
 "metadata": {
  "kernelspec": {
   "display_name": "Python 3",
   "language": "python",
   "name": "python3"
  },
  "language_info": {
   "codemirror_mode": {
    "name": "ipython",
    "version": 3
   },
   "file_extension": ".py",
   "mimetype": "text/x-python",
   "name": "python",
   "nbconvert_exporter": "python",
   "pygments_lexer": "ipython3",
   "version": "3.8.5"
  }
 },
 "nbformat": 4,
 "nbformat_minor": 4
}
