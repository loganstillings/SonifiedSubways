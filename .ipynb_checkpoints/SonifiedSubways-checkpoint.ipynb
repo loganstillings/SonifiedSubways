{
 "cells": [
  {
   "cell_type": "markdown",
   "metadata": {},
   "source": [
    "# Sonified Subways"
   ]
  },
  {
   "cell_type": "code",
   "execution_count": 29,
   "metadata": {},
   "outputs": [],
   "source": [
    "# Set up http requests to \n",
    "# Transitland API\n",
    "import requests\n",
    "TRANSITLAND_API_ROOT = \"https://transit.land/api/v2/rest/\"\n",
    "API_KEY = \"Vh3vOv49U6ZcgD7JQQhkLz4jBGkURNv2\" # Add API key here\n",
    "HEADERS = {'apikey': API_KEY}"
   ]
  },
  {
   "cell_type": "code",
   "execution_count": 30,
   "metadata": {},
   "outputs": [],
   "source": [
    "# Helper functions\n",
    "def get_coordinates_from_route_response(route_response):\n",
    "    stop_array = route_response['routes'][0]['route_stops']\n",
    "    return list(map(lambda x : x['stop']['geometry']['coordinates'], stop_array))\n",
    "\n",
    "def get_route_by_id(route_id):\n",
    "    route_url = \"{0}/routes/{1}?include_geometry=true\".format(TRANSITLAND_API_ROOT, route_id)\n",
    "    response = requests.get(route_url, headers=HEADERS)\n",
    "    return response.json()"
   ]
  },
  {
   "cell_type": "markdown",
   "metadata": {},
   "source": [
    "### Barcelona"
   ]
  },
  {
   "cell_type": "code",
   "execution_count": 33,
   "metadata": {},
   "outputs": [
    {
     "name": "stdout",
     "output_type": "stream",
     "text": [
      "[[2.186582, 41.421296], [2.173618, 41.403835], [2.140398, 41.379955], [2.15883, 41.394435], [2.142356, 41.424993], [2.167089, 41.398952], [2.176485, 41.425045], [2.070428, 41.35729], [2.079269, 41.357993], [2.084393, 41.363381], [2.091506, 41.366571], [2.099445, 41.371279], [2.107209, 41.373838], [2.119195, 41.375743], [2.127402, 41.375581], [2.151081, 41.388608], [2.176016, 41.410753], [2.181497, 41.41506], [2.181186, 41.42344], [2.174913, 41.429703], [2.167619, 41.430465], [2.159974, 41.429692], [2.155099, 41.42445], [2.148348, 41.421997]]\n"
     ]
    }
   ],
   "source": [
    "# get the transitland coordinates BCN Transports Metropolitans de Barcelona (TMB) Route L1-L5\n",
    "\n",
    "l1_route_id = \"r-sp3e-l1\" # https://www.transit.land/routes/r-sp3e-l1\n",
    "l1_route = get_route_by_id(l1_route_id)\n",
    "l1_stop_coordinates = get_coordinates_from_route_response(l1_route)\n",
    "\n",
    "l2_route_id = \"r-sp3e-l2\" # https://www.transit.land/routes/r-sp3e-l2\n",
    "l2_route = get_route_by_id(l2_route_id)\n",
    "l2_stop_coordinates = get_coordinates_from_route_response(l2_route)\n",
    "\n",
    "l3_route_id = \"r-sp3e8-l3\" # https://www.transit.land/routes/r-sp3e-l3\n",
    "l3_route = get_route_by_id(l3_route_id)\n",
    "l3_stop_coordinates = get_coordinates_from_route_response(l3_route)\n",
    "\n",
    "l4_route_id = \"r-sp3e9-l4\" # https://www.transit.land/routes/r-sp3e-l4\n",
    "l4_route = get_route_by_id(l4_route_id)\n",
    "l4_stop_coordinates = get_coordinates_from_route_response(l4_route)\n",
    "\n",
    "l5_route_id = \"r-sp3e8-l5\" # https://www.transit.land/routes/r-sp3e-l5\n",
    "l5_route = get_route_by_id(l5_route_id)\n",
    "l5_stop_coordinates = get_coordinates_from_route_response(l5_route)\n",
    "print(l5_stop_coordinates)"
   ]
  }
 ],
 "metadata": {
  "interpreter": {
   "hash": "81bba995fcae50bb985d8bb03d3cd265feb74e20612dcc2d8a4e1d6e19e35691"
  },
  "kernelspec": {
   "display_name": "Python 3",
   "language": "python",
   "name": "python3"
  },
  "language_info": {
   "codemirror_mode": {
    "name": "ipython",
    "version": 3
   },
   "file_extension": ".py",
   "mimetype": "text/x-python",
   "name": "python",
   "nbconvert_exporter": "python",
   "pygments_lexer": "ipython3",
   "version": "3.8.5"
  }
 },
 "nbformat": 4,
 "nbformat_minor": 4
}
